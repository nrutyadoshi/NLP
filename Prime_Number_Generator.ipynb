{
  "nbformat": 4,
  "nbformat_minor": 0,
  "metadata": {
    "colab": {
      "name": "Prime Number Generator.ipynb",
      "provenance": [],
      "collapsed_sections": [],
      "include_colab_link": true
    },
    "kernelspec": {
      "name": "python3",
      "display_name": "Python 3"
    }
  },
  "cells": [
    {
      "cell_type": "markdown",
      "metadata": {
        "id": "view-in-github",
        "colab_type": "text"
      },
      "source": [
        "<a href=\"https://colab.research.google.com/github/nrutyadoshi/NLP/blob/Classwork/Prime_Number_Generator.ipynb\" target=\"_parent\"><img src=\"https://colab.research.google.com/assets/colab-badge.svg\" alt=\"Open In Colab\"/></a>"
      ]
    },
    {
      "cell_type": "code",
      "metadata": {
        "id": "GRHW4AWP1hQn",
        "colab_type": "code",
        "colab": {}
      },
      "source": [
        "import numpy as np\n",
        "import pandas as pd"
      ],
      "execution_count": 0,
      "outputs": []
    },
    {
      "cell_type": "code",
      "metadata": {
        "id": "i3dWjfqMZ8bo",
        "colab_type": "code",
        "outputId": "a28af8b0-f172-41bf-ada7-7456468cd40c",
        "colab": {
          "base_uri": "https://localhost:8080/",
          "height": 50
        }
      },
      "source": [
        "n = int(input('Enter nth position : '))\n",
        "prime_nos = [2,3]\n",
        "i=3\n",
        "if(0<n<3):\n",
        "    print('The Prime Number is :',prime_nos[n-1])\n",
        "elif(n>2):\n",
        "    while (True):\n",
        "        i+=1\n",
        "        prime = True\n",
        "        for j in range(2,int(i/2)+1):\n",
        "            if(i%j==0):\n",
        "                prime = False\n",
        "                break\n",
        "        if(prime==True):\n",
        "            prime_nos.append(i)\n",
        "        if(len(prime_nos)==n):\n",
        "            break\n",
        "    print('The Prime Number is :', prime_nos[n-1])\n",
        "else:\n",
        "    print('Please Enter A Valid Number')"
      ],
      "execution_count": 6,
      "outputs": [
        {
          "output_type": "stream",
          "text": [
            "Enter nth position : 3\n",
            "The Prime Number is : 5\n"
          ],
          "name": "stdout"
        }
      ]
    }
  ]
}
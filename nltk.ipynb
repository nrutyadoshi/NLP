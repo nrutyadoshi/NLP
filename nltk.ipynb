{
  "nbformat": 4,
  "nbformat_minor": 0,
  "metadata": {
    "colab": {
      "name": "nltk.ipynb",
      "provenance": [],
      "collapsed_sections": [],
      "include_colab_link": true
    },
    "kernelspec": {
      "name": "python3",
      "display_name": "Python 3"
    }
  },
  "cells": [
    {
      "cell_type": "markdown",
      "metadata": {
        "id": "view-in-github",
        "colab_type": "text"
      },
      "source": [
        "<a href=\"https://colab.research.google.com/github/nrutyadoshi/NLP/blob/Classwork/nltk.ipynb\" target=\"_parent\"><img src=\"https://colab.research.google.com/assets/colab-badge.svg\" alt=\"Open In Colab\"/></a>"
      ]
    },
    {
      "cell_type": "code",
      "metadata": {
        "id": "AGiFIjtMuDg4",
        "colab_type": "code",
        "colab": {}
      },
      "source": [
        "import pandas as pd\n",
        "import numpy as np"
      ],
      "execution_count": 0,
      "outputs": []
    },
    {
      "cell_type": "code",
      "metadata": {
        "id": "-nHhSbzC53gc",
        "colab_type": "code",
        "colab": {}
      },
      "source": [
        "data = pd.read_json(\"http://snap.stanford.edu/data/amazon/productGraph/categoryFiles/reviews_Office_Products_5.json.gz\",lines=True)"
      ],
      "execution_count": 0,
      "outputs": []
    },
    {
      "cell_type": "code",
      "metadata": {
        "id": "2U4k2QO_6Rha",
        "colab_type": "code",
        "colab": {
          "base_uri": "https://localhost:8080/",
          "height": 430
        },
        "outputId": "9a3eed23-67f9-43ae-ad1d-480140807e18"
      },
      "source": [
        "data.head()"
      ],
      "execution_count": 238,
      "outputs": [
        {
          "output_type": "execute_result",
          "data": {
            "text/html": [
              "<div>\n",
              "<style scoped>\n",
              "    .dataframe tbody tr th:only-of-type {\n",
              "        vertical-align: middle;\n",
              "    }\n",
              "\n",
              "    .dataframe tbody tr th {\n",
              "        vertical-align: top;\n",
              "    }\n",
              "\n",
              "    .dataframe thead th {\n",
              "        text-align: right;\n",
              "    }\n",
              "</style>\n",
              "<table border=\"1\" class=\"dataframe\">\n",
              "  <thead>\n",
              "    <tr style=\"text-align: right;\">\n",
              "      <th></th>\n",
              "      <th>reviewerID</th>\n",
              "      <th>asin</th>\n",
              "      <th>reviewerName</th>\n",
              "      <th>helpful</th>\n",
              "      <th>reviewText</th>\n",
              "      <th>overall</th>\n",
              "      <th>summary</th>\n",
              "      <th>unixReviewTime</th>\n",
              "      <th>reviewTime</th>\n",
              "    </tr>\n",
              "  </thead>\n",
              "  <tbody>\n",
              "    <tr>\n",
              "      <th>0</th>\n",
              "      <td>A32T2H8150OJLU</td>\n",
              "      <td>B00000JBLH</td>\n",
              "      <td>ARH</td>\n",
              "      <td>[3, 4]</td>\n",
              "      <td>I bought my first HP12C in about 1984 or so, and it served me faithfully until 2002 when I lost it while travelling.  I searched for another one to replace it, but found one difficult to come by i...</td>\n",
              "      <td>5</td>\n",
              "      <td>A solid performer, and long time friend</td>\n",
              "      <td>1094169600</td>\n",
              "      <td>09 3, 2004</td>\n",
              "    </tr>\n",
              "    <tr>\n",
              "      <th>1</th>\n",
              "      <td>A3MAFS04ZABRGO</td>\n",
              "      <td>B00000JBLH</td>\n",
              "      <td>Let it Be \"Alan\"</td>\n",
              "      <td>[7, 9]</td>\n",
              "      <td>WHY THIS BELATED REVIEW? I feel very obliged to share my views about this old workhorse, the HP12C GOLD at its 25th anniversary and my 1Oth year as a satisfied ower user and fan. Especially after ...</td>\n",
              "      <td>5</td>\n",
              "      <td>Price of GOLD is up, so don't bury the golden flagship HP12c !</td>\n",
              "      <td>1197676800</td>\n",
              "      <td>12 15, 2007</td>\n",
              "    </tr>\n",
              "    <tr>\n",
              "      <th>2</th>\n",
              "      <td>A1F1A0QQP2XVH5</td>\n",
              "      <td>B00000JBLH</td>\n",
              "      <td>Mark B</td>\n",
              "      <td>[3, 3]</td>\n",
              "      <td>I have an HP 48GX that has been kicking for more than twenty years and an HP 11 that is more than 25 years old and still flawless.  I have had this 12C for about 18 months and the number 5 key is ...</td>\n",
              "      <td>2</td>\n",
              "      <td>Good functionality, but not durable like old HPs</td>\n",
              "      <td>1293840000</td>\n",
              "      <td>01 1, 2011</td>\n",
              "    </tr>\n",
              "    <tr>\n",
              "      <th>3</th>\n",
              "      <td>A49R5DBXXQDE5</td>\n",
              "      <td>B00000JBLH</td>\n",
              "      <td>R. D Johnson</td>\n",
              "      <td>[7, 8]</td>\n",
              "      <td>I've started doing more finance stuff recently and went looking for a good time-value-of-money calculator. I was pleasantly surprised to find the HP12C was still available. I've been using HP calc...</td>\n",
              "      <td>5</td>\n",
              "      <td>One of the last of an almost extinct species</td>\n",
              "      <td>1145404800</td>\n",
              "      <td>04 19, 2006</td>\n",
              "    </tr>\n",
              "    <tr>\n",
              "      <th>4</th>\n",
              "      <td>A2XRMQA6PJ5ZJ8</td>\n",
              "      <td>B00000JBLH</td>\n",
              "      <td>Roger J. Buffington</td>\n",
              "      <td>[0, 0]</td>\n",
              "      <td>For simple calculations and discounted cash flows, this one is still the best.  I used this in my graduate business program, and for years as a practicing CPA and financial executive.  Of course f...</td>\n",
              "      <td>5</td>\n",
              "      <td>Still the best</td>\n",
              "      <td>1375574400</td>\n",
              "      <td>08 4, 2013</td>\n",
              "    </tr>\n",
              "  </tbody>\n",
              "</table>\n",
              "</div>"
            ],
            "text/plain": [
              "       reviewerID        asin  ... unixReviewTime   reviewTime\n",
              "0  A32T2H8150OJLU  B00000JBLH  ...     1094169600   09 3, 2004\n",
              "1  A3MAFS04ZABRGO  B00000JBLH  ...     1197676800  12 15, 2007\n",
              "2  A1F1A0QQP2XVH5  B00000JBLH  ...     1293840000   01 1, 2011\n",
              "3   A49R5DBXXQDE5  B00000JBLH  ...     1145404800  04 19, 2006\n",
              "4  A2XRMQA6PJ5ZJ8  B00000JBLH  ...     1375574400   08 4, 2013\n",
              "\n",
              "[5 rows x 9 columns]"
            ]
          },
          "metadata": {
            "tags": []
          },
          "execution_count": 238
        }
      ]
    },
    {
      "cell_type": "code",
      "metadata": {
        "id": "urcsVnCJ7JHA",
        "colab_type": "code",
        "colab": {}
      },
      "source": [
        "nltk.download('all')"
      ],
      "execution_count": 0,
      "outputs": []
    },
    {
      "cell_type": "code",
      "metadata": {
        "id": "GzGA_LUC6VX5",
        "colab_type": "code",
        "colab": {}
      },
      "source": [
        "import nltk "
      ],
      "execution_count": 0,
      "outputs": []
    },
    {
      "cell_type": "code",
      "metadata": {
        "id": "_-7JIb_x6dl5",
        "colab_type": "code",
        "colab": {}
      },
      "source": [
        "from nltk import word_tokenize"
      ],
      "execution_count": 0,
      "outputs": []
    },
    {
      "cell_type": "code",
      "metadata": {
        "id": "bWd2YxrH7Fnh",
        "colab_type": "code",
        "colab": {}
      },
      "source": [
        "from nltk.stem import WordNetLemmatizer"
      ],
      "execution_count": 0,
      "outputs": []
    },
    {
      "cell_type": "code",
      "metadata": {
        "id": "XLshMnFyFZq5",
        "colab_type": "code",
        "colab": {}
      },
      "source": [
        "import re"
      ],
      "execution_count": 0,
      "outputs": []
    },
    {
      "cell_type": "code",
      "metadata": {
        "id": "hIygNi_m-kGU",
        "colab_type": "code",
        "colab": {}
      },
      "source": [
        "def dictionary_nltk(str):\n",
        "  nlp = dict()\n",
        "  words = nltk.tokenize.word_tokenize(str)\n",
        "  nlp[\"tokenize\"] = words\n",
        "  pos = nltk.pos_tag(words)\n",
        "  nlp[\"pos\"] = pos\n",
        "  return nlp"
      ],
      "execution_count": 0,
      "outputs": []
    },
    {
      "cell_type": "code",
      "metadata": {
        "id": "atISqqiSjUkf",
        "colab_type": "code",
        "colab": {}
      },
      "source": [
        "def adjective(str):\n",
        "  words = nltk.tokenize.word_tokenize(str)\n",
        "  pos = nltk.pos_tag(words)\n",
        "  adj = []\n",
        "  for i in range(0,len(pos)):\n",
        "    if (\"JJ\" in pos[i][1]):\n",
        "      adj.append(pos[i][0])\n",
        "  return adj"
      ],
      "execution_count": 0,
      "outputs": []
    },
    {
      "cell_type": "code",
      "metadata": {
        "id": "xpiMhfMyRQ0k",
        "colab_type": "code",
        "colab": {
          "base_uri": "https://localhost:8080/",
          "height": 33
        },
        "outputId": "836617bc-89e9-4dd7-df33-2291414eaadc"
      },
      "source": [
        "data = data.iloc[:50]\n",
        "data.shape"
      ],
      "execution_count": 304,
      "outputs": [
        {
          "output_type": "execute_result",
          "data": {
            "text/plain": [
              "(50, 13)"
            ]
          },
          "metadata": {
            "tags": []
          },
          "execution_count": 304
        }
      ]
    },
    {
      "cell_type": "code",
      "metadata": {
        "id": "6TyEXv-sjfg8",
        "colab_type": "code",
        "colab": {}
      },
      "source": [
        "data[\"reviewText_nltk\"] = data.apply(lambda row: dictionary_nltk(row.reviewText),axis=1)\n",
        "data[\"summary_nltk\"] = data.apply(lambda row: dictionary_nltk(row.summary),axis=1)"
      ],
      "execution_count": 0,
      "outputs": []
    },
    {
      "cell_type": "code",
      "metadata": {
        "id": "2F-T8wgxjfjy",
        "colab_type": "code",
        "colab": {}
      },
      "source": [
        "data[\"reviewText_adj\"] = data.apply(lambda row: adjective(row.reviewText),axis=1)\n",
        "data[\"summary_adj\"] = data.apply(lambda row: adjective(row.summary),axis=1)"
      ],
      "execution_count": 0,
      "outputs": []
    },
    {
      "cell_type": "code",
      "metadata": {
        "id": "888lDpcbQ95H",
        "colab_type": "code",
        "colab": {
          "base_uri": "https://localhost:8080/",
          "height": 1000
        },
        "outputId": "c536e11d-f2ab-4663-d5ad-f550d3ac44c6"
      },
      "source": [
        "data.head()"
      ],
      "execution_count": 307,
      "outputs": [
        {
          "output_type": "execute_result",
          "data": {
            "text/html": [
              "<div>\n",
              "<style scoped>\n",
              "    .dataframe tbody tr th:only-of-type {\n",
              "        vertical-align: middle;\n",
              "    }\n",
              "\n",
              "    .dataframe tbody tr th {\n",
              "        vertical-align: top;\n",
              "    }\n",
              "\n",
              "    .dataframe thead th {\n",
              "        text-align: right;\n",
              "    }\n",
              "</style>\n",
              "<table border=\"1\" class=\"dataframe\">\n",
              "  <thead>\n",
              "    <tr style=\"text-align: right;\">\n",
              "      <th></th>\n",
              "      <th>reviewerID</th>\n",
              "      <th>asin</th>\n",
              "      <th>reviewerName</th>\n",
              "      <th>helpful</th>\n",
              "      <th>reviewText</th>\n",
              "      <th>overall</th>\n",
              "      <th>summary</th>\n",
              "      <th>unixReviewTime</th>\n",
              "      <th>reviewTime</th>\n",
              "      <th>reviewText_nltk</th>\n",
              "      <th>summary_nltk</th>\n",
              "      <th>reviewText_adj</th>\n",
              "      <th>summary_adj</th>\n",
              "    </tr>\n",
              "  </thead>\n",
              "  <tbody>\n",
              "    <tr>\n",
              "      <th>0</th>\n",
              "      <td>A32T2H8150OJLU</td>\n",
              "      <td>B00000JBLH</td>\n",
              "      <td>ARH</td>\n",
              "      <td>[3, 4]</td>\n",
              "      <td>I bought my first HP12C in about 1984 or so, and it served me faithfully until 2002 when I lost it while travelling.  I searched for another one to replace it, but found one difficult to come by i...</td>\n",
              "      <td>5</td>\n",
              "      <td>A solid performer, and long time friend</td>\n",
              "      <td>1094169600</td>\n",
              "      <td>09 3, 2004</td>\n",
              "      <td>{'tokenize': ['I', 'bought', 'my', 'first', 'HP12C', 'in', 'about', '1984', 'or', 'so', ',', 'and', 'it', 'served', 'me', 'faithfully', 'until', '2002', 'when', 'I', 'lost', 'it', 'while', 'travel...</td>\n",
              "      <td>{'tokenize': ['A', 'solid', 'performer', ',', 'and', 'long', 'time', 'friend'], 'pos': [('A', 'DT'), ('solid', 'JJ'), ('performer', 'NN'), (',', ','), ('and', 'CC'), ('long', 'JJ'), ('time', 'NN')...</td>\n",
              "      <td>[first, difficult, many, disaster.The, powerful, counterintuitive, best, other, good, solid, reliable, programmable, basic, many, manual, short, ready, old]</td>\n",
              "      <td>[solid, long]</td>\n",
              "    </tr>\n",
              "    <tr>\n",
              "      <th>1</th>\n",
              "      <td>A3MAFS04ZABRGO</td>\n",
              "      <td>B00000JBLH</td>\n",
              "      <td>Let it Be \"Alan\"</td>\n",
              "      <td>[7, 9]</td>\n",
              "      <td>WHY THIS BELATED REVIEW? I feel very obliged to share my views about this old workhorse, the HP12C GOLD at its 25th anniversary and my 1Oth year as a satisfied ower user and fan. Especially after ...</td>\n",
              "      <td>5</td>\n",
              "      <td>Price of GOLD is up, so don't bury the golden flagship HP12c !</td>\n",
              "      <td>1197676800</td>\n",
              "      <td>12 15, 2007</td>\n",
              "      <td>{'tokenize': ['WHY', 'THIS', 'BELATED', 'REVIEW', '?', 'I', 'feel', 'very', 'obliged', 'to', 'share', 'my', 'views', 'about', 'this', 'old', 'workhorse', ',', 'the', 'HP12C', 'GOLD', 'at', 'its', ...</td>\n",
              "      <td>{'tokenize': ['Price', 'of', 'GOLD', 'is', 'up', ',', 'so', 'do', 'n't', 'bury', 'the', 'golden', 'flagship', 'HP12c', '!'], 'pos': [('Price', 'NN'), ('of', 'IN'), ('GOLD', 'NN'), ('is', 'VBZ'), (...</td>\n",
              "      <td>[old, satisfied, ower, frank, non-techkie, synonymous, highest, best, handheld, electronic, financial, first, personal, other, golden, matured, only, longest, electronic, best, proven, unchanged, ...</td>\n",
              "      <td>[golden]</td>\n",
              "    </tr>\n",
              "    <tr>\n",
              "      <th>2</th>\n",
              "      <td>A1F1A0QQP2XVH5</td>\n",
              "      <td>B00000JBLH</td>\n",
              "      <td>Mark B</td>\n",
              "      <td>[3, 3]</td>\n",
              "      <td>I have an HP 48GX that has been kicking for more than twenty years and an HP 11 that is more than 25 years old and still flawless.  I have had this 12C for about 18 months and the number 5 key is ...</td>\n",
              "      <td>2</td>\n",
              "      <td>Good functionality, but not durable like old HPs</td>\n",
              "      <td>1293840000</td>\n",
              "      <td>01 1, 2011</td>\n",
              "      <td>{'tokenize': ['I', 'have', 'an', 'HP', '48GX', 'that', 'has', 'been', 'kicking', 'for', 'more', 'than', 'twenty', 'years', 'and', 'an', 'HP', '11', 'that', 'is', 'more', 'than', '25', 'years', 'ol...</td>\n",
              "      <td>{'tokenize': ['Good', 'functionality', ',', 'but', 'not', 'durable', 'like', 'old', 'HPs'], 'pos': [('Good', 'JJ'), ('functionality', 'NN'), (',', ','), ('but', 'CC'), ('not', 'RB'), ('durable', '...</td>\n",
              "      <td>[more, more, old, flawless, overall, new, cheaper, hollow, light, available, great, classic, good]</td>\n",
              "      <td>[Good, durable, old]</td>\n",
              "    </tr>\n",
              "    <tr>\n",
              "      <th>3</th>\n",
              "      <td>A49R5DBXXQDE5</td>\n",
              "      <td>B00000JBLH</td>\n",
              "      <td>R. D Johnson</td>\n",
              "      <td>[7, 8]</td>\n",
              "      <td>I've started doing more finance stuff recently and went looking for a good time-value-of-money calculator. I was pleasantly surprised to find the HP12C was still available. I've been using HP calc...</td>\n",
              "      <td>5</td>\n",
              "      <td>One of the last of an almost extinct species</td>\n",
              "      <td>1145404800</td>\n",
              "      <td>04 19, 2006</td>\n",
              "      <td>{'tokenize': ['I', ''ve', 'started', 'doing', 'more', 'finance', 'stuff', 'recently', 'and', 'went', 'looking', 'for', 'a', 'good', 'time-value-of-money', 'calculator', '.', 'I', 'was', 'pleasantl...</td>\n",
              "      <td>{'tokenize': ['One', 'of', 'the', 'last', 'of', 'an', 'almost', 'extinct', 'species'], 'pos': [('One', 'CD'), ('of', 'IN'), ('the', 'DT'), ('last', 'JJ'), ('of', 'IN'), ('an', 'DT'), ('almost', 'R...</td>\n",
              "      <td>[more, good, available, great, long-lasting, true, last, great, same, long-term, straightforward, straightforward, punch-it-in, good, quick, accurate, high-end, financial, Sure, financial, financi...</td>\n",
              "      <td>[last, extinct]</td>\n",
              "    </tr>\n",
              "    <tr>\n",
              "      <th>4</th>\n",
              "      <td>A2XRMQA6PJ5ZJ8</td>\n",
              "      <td>B00000JBLH</td>\n",
              "      <td>Roger J. Buffington</td>\n",
              "      <td>[0, 0]</td>\n",
              "      <td>For simple calculations and discounted cash flows, this one is still the best.  I used this in my graduate business program, and for years as a practicing CPA and financial executive.  Of course f...</td>\n",
              "      <td>5</td>\n",
              "      <td>Still the best</td>\n",
              "      <td>1375574400</td>\n",
              "      <td>08 4, 2013</td>\n",
              "      <td>{'tokenize': ['For', 'simple', 'calculations', 'and', 'discounted', 'cash', 'flows', ',', 'this', 'one', 'is', 'still', 'the', 'best', '.', 'I', 'used', 'this', 'in', 'my', 'graduate', 'business',...</td>\n",
              "      <td>{'tokenize': ['Still', 'the', 'best'], 'pos': [('Still', 'RB'), ('the', 'DT'), ('best', 'JJS')]}</td>\n",
              "      <td>[simple, best, financial, complex, quick, Reverse, Polish, easy, intuitive, Many, arithmetical, easy, superb]</td>\n",
              "      <td>[best]</td>\n",
              "    </tr>\n",
              "  </tbody>\n",
              "</table>\n",
              "</div>"
            ],
            "text/plain": [
              "       reviewerID  ...           summary_adj\n",
              "0  A32T2H8150OJLU  ...         [solid, long]\n",
              "1  A3MAFS04ZABRGO  ...              [golden]\n",
              "2  A1F1A0QQP2XVH5  ...  [Good, durable, old]\n",
              "3   A49R5DBXXQDE5  ...       [last, extinct]\n",
              "4  A2XRMQA6PJ5ZJ8  ...                [best]\n",
              "\n",
              "[5 rows x 13 columns]"
            ]
          },
          "metadata": {
            "tags": []
          },
          "execution_count": 307
        }
      ]
    },
    {
      "cell_type": "code",
      "metadata": {
        "id": "nY0lMkHQRcaU",
        "colab_type": "code",
        "colab": {
          "base_uri": "https://localhost:8080/",
          "height": 53
        },
        "outputId": "a0cd5543-c793-4f13-f844-3b09d6442bd1"
      },
      "source": [
        "print(data[\"summary_nltk\"][0])"
      ],
      "execution_count": 309,
      "outputs": [
        {
          "output_type": "stream",
          "text": [
            "{'tokenize': ['A', 'solid', 'performer', ',', 'and', 'long', 'time', 'friend'], 'pos': [('A', 'DT'), ('solid', 'JJ'), ('performer', 'NN'), (',', ','), ('and', 'CC'), ('long', 'JJ'), ('time', 'NN'), ('friend', 'NN')]}\n"
          ],
          "name": "stdout"
        }
      ]
    },
    {
      "cell_type": "code",
      "metadata": {
        "id": "qRr0yQYpeS54",
        "colab_type": "code",
        "colab": {
          "base_uri": "https://localhost:8080/",
          "height": 33
        },
        "outputId": "64999326-802e-4882-9a59-9966bf6f28c6"
      },
      "source": [
        "print(data[\"summary_adj\"][0])"
      ],
      "execution_count": 310,
      "outputs": [
        {
          "output_type": "stream",
          "text": [
            "['solid', 'long']\n"
          ],
          "name": "stdout"
        }
      ]
    },
    {
      "cell_type": "code",
      "metadata": {
        "id": "KJBqHv2Ck4bU",
        "colab_type": "code",
        "colab": {}
      },
      "source": [
        ""
      ],
      "execution_count": 0,
      "outputs": []
    }
  ]
}